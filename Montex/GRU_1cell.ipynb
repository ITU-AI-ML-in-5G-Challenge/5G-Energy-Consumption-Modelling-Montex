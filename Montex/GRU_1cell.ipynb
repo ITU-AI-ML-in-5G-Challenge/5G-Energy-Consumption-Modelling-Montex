{
 "cells": [
  {
   "cell_type": "code",
   "execution_count": 1,
   "metadata": {},
   "outputs": [],
   "source": [
    "import torch\n",
    "import torch.nn as nn\n",
    "import pandas as pd\n",
    "import numpy as np\n",
    "from scipy.signal import savgol_filter\n",
    "import matplotlib.pyplot as plt\n",
    "from Models import GRU, RNN, MLP, GRU_V2, GRU_V3\n",
    "from sklearn.metrics import mean_absolute_error\n",
    "from RecDataLoader import Dataset\n",
    "import pickle"
   ]
  },
  {
   "cell_type": "code",
   "execution_count": 2,
   "metadata": {},
   "outputs": [
    {
     "name": "stdout",
     "output_type": "stream",
     "text": [
      "{'B_946', 'B_924'}\n"
     ]
    }
   ],
   "source": [
    "BSC = pd.read_csv('./original_data/Base_station_basic_info.csv')\n",
    "CLD = pd.read_csv('./original_data/Cell-level_data.csv')\n",
    "ECD = pd.read_csv('./original_data/Energy_consumption_data.csv')\n",
    "PCD = pd.read_csv('./original_data/Power_consumption_prediction.csv') #26139\n",
    "\n",
    "\n",
    "merged_df = CLD.merge(BSC, on=['BS', 'CellName'], how='inner')\n",
    "fullmerged_df = merged_df.merge(ECD, on=['BS', 'Time'], how='left') # merge + wyjscie\n",
    "\n",
    "unique_cells_per_base = fullmerged_df.groupby('BS')['CellName'].nunique()\n",
    "one_cell_bases = unique_cells_per_base[unique_cells_per_base == 1].index\n",
    "two_cell_bases = unique_cells_per_base[unique_cells_per_base == 2].index\n",
    "four_cell_bases = unique_cells_per_base[unique_cells_per_base == 4].index\n",
    "\n",
    "# print(one_cell_bases)\n",
    "# print(two_cell_bases)\n",
    "# print(four_cell_bases)\n",
    "\n",
    "# print(fullmerged_df[\"BS\"].value_counts())\n",
    "# print(PCD[\"BS\"].value_counts())\n",
    "\n",
    "bs_set1 = set(fullmerged_df['BS'])\n",
    "bs_set2 = set(PCD['BS'])\n",
    "\n",
    "missing_variables = bs_set1.difference(bs_set2) #okazuje się ze B_924 i B_946 nie ma w PCD\n",
    "print(missing_variables)\n",
    "eval_data_1cell = PCD[PCD['BS'].isin(one_cell_bases)]"
   ]
  },
  {
   "cell_type": "code",
   "execution_count": 3,
   "metadata": {},
   "outputs": [
    {
     "name": "stderr",
     "output_type": "stream",
     "text": [
      "Rec data prep progress: 100%|██████████| 92285/92285 [02:30<00:00, 613.46it/s]\n"
     ]
    },
    {
     "name": "stdout",
     "output_type": "stream",
     "text": [
      "67628 probek 1h do przodu, 3081 probek 2h do przodu, 0 probek 3h do przodu,0 probek 4h do przodu,0 probek 5h do przodu, 20749 probek >5h do przodu\n",
      "Udalo sie wypelnic 20787/20787 probek eval\n",
      "88795 3490\n"
     ]
    }
   ],
   "source": [
    "eval_time_stamps = eval_data_1cell[['Time', 'BS']]\n",
    "\n",
    "seq_len = 3\n",
    "device = torch.device(\"cuda\") if torch.cuda.is_available() else torch.device(\"cpu\")\n",
    "\n",
    "# data = Dataset(data_path=\"./prepared_data/One_Cell_merged_all.csv\", eval_time_stamps=eval_time_stamps,  seq_len=seq_len, eval_percentage=0.05)\n",
    "data = Dataset(data_path=\"./prepared_data/One_Cell_merged_with_preds.csv\", eval_time_stamps=eval_time_stamps,  seq_len=seq_len, eval_percentage=0.05)\n",
    "data_x, data_y = data.get_data()\n",
    "\n",
    "val_data_x, val_data_y = data.get_validation_data()\n",
    "\n",
    "trainset = torch.utils.data.TensorDataset(torch.from_numpy(data_x).float(), torch.from_numpy(data_y).float())\n",
    "testset = torch.utils.data.TensorDataset(torch.from_numpy(val_data_x).float(), torch.from_numpy(val_data_y).float())\n",
    "\n",
    "\n",
    "dataset = torch.utils.data.TensorDataset(torch.from_numpy(data_x).float(), torch.from_numpy(data_y).float())\n",
    "\n",
    "# seed = 111\n",
    "# torch.manual_seed(seed)\n",
    "# trainset, testset = torch.utils.data.random_split(dataset, [int(len(dataset)*0.9), len(dataset) - int(len(dataset)*0.9)])\n",
    "print(len(trainset), len(testset))\n",
    "\n",
    "trainloader = torch.utils.data.DataLoader(trainset, batch_size=512, shuffle=True)\n",
    "testloader = torch.utils.data.DataLoader(testset, batch_size=512, shuffle=True)"
   ]
  },
  {
   "cell_type": "code",
   "execution_count": 5,
   "metadata": {},
   "outputs": [
    {
     "name": "stdout",
     "output_type": "stream",
     "text": [
      "Input = 27, Output = 1\n"
     ]
    },
    {
     "data": {
      "text/plain": [
       "<All keys matched successfully>"
      ]
     },
     "execution_count": 5,
     "metadata": {},
     "output_type": "execute_result"
    }
   ],
   "source": [
    "input_size = trainloader.dataset.tensors[0].shape[2]\n",
    "output_size = trainloader.dataset.tensors[1].shape[1]\n",
    "model = GRU_V2(input_size, 512, 2, 1).to(device)\n",
    "print(f'Input = {input_size}, Output = {output_size}')\n",
    "model.load_state_dict(torch.load(\"./trained_models/GRU_1cell_N4_seq_len_3.tar\"))"
   ]
  },
  {
   "cell_type": "code",
   "execution_count": 6,
   "metadata": {},
   "outputs": [],
   "source": [
    "def mae_eval(model):\n",
    "    model.eval()\n",
    "    all_preds = []\n",
    "    all_outs = []\n",
    "    # val_mean_abs_errors = []\n",
    "    for i, (x, y) in enumerate(testloader):\n",
    "        x = x.view(-1, seq_len, input_size).requires_grad_().to(device)\n",
    "        # x = x.view(-1, seq_len*input_size).requires_grad_().to(device)\n",
    "        hidden = model.init_hidden(x).to(device)\n",
    "        x, y = x.to(device), y.to(device)\n",
    "        # print(x.shape, y.shape)\n",
    "        # preds = model(x) \n",
    "        preds = model(x, hidden) \n",
    "        preds = preds.reshape(x.size(0), -1)\n",
    "        y = y.reshape(x.size(0), -1)\n",
    "        all_preds.append(preds.detach().cpu().numpy())\n",
    "        all_outs.append(y.detach().cpu().numpy())\n",
    "    all_preds = np.concatenate(all_preds, axis=0)\n",
    "    all_outs = np.concatenate(all_outs, axis=0)\n",
    "    mae = mean_absolute_error(all_preds, all_outs)\n",
    "    return mae"
   ]
  },
  {
   "cell_type": "code",
   "execution_count": 7,
   "metadata": {},
   "outputs": [],
   "source": [
    "criterion = nn.MSELoss()\n",
    "optimizer = torch.optim.Adam(model.parameters(), lr=0.001, weight_decay=0.0001)\n",
    "# model.load_state_dict(torch.load(\"./trained_models/with_preds/GRU_1cell_N5_seq_len_3.tar\"))"
   ]
  },
  {
   "cell_type": "code",
   "execution_count": 8,
   "metadata": {},
   "outputs": [
    {
     "name": "stdout",
     "output_type": "stream",
     "text": [
      "Initial val MAE: 1.1255\n",
      "Best val MAE: 1.1255\n"
     ]
    }
   ],
   "source": [
    "model.train()\n",
    "\n",
    "all_loss = []\n",
    "val_mean_abs_error = []\n",
    "avg_loss = 0\n",
    "epochs_without_progress = 0\n",
    "min_mae = mae_eval(model)\n",
    "\n",
    "print(f'Initial val MAE: {min_mae:.4f}')\n",
    "\n",
    "num_epochs = 0\n",
    "\n",
    "for epoch in range(num_epochs):\n",
    "    for i, (x, y) in enumerate(trainloader):\n",
    "        model.train()\n",
    "        x = x.view(-1, seq_len, input_size).requires_grad_().to(device)\n",
    "        optimizer.zero_grad()\n",
    "        hidden = model.init_hidden(x).to(device)\n",
    "        x, y = x.to(device), y.to(device)\n",
    "        preds = model(x, hidden) \n",
    "        preds = preds.reshape(x.size(0), -1)\n",
    "        y = y.reshape(x.size(0), -1)\n",
    "        loss = criterion(preds, y)\n",
    "        loss.backward()\n",
    "        avg_loss += loss.item()\n",
    "        optimizer.step()\n",
    "    mae = mae_eval(model)\n",
    "    val_mean_abs_error.append(mae)\n",
    "    if mae < min_mae:\n",
    "        min_mae = mae\n",
    "        print(f'New min MAE: {min_mae:.4f}')\n",
    "        # torch.save(model.state_dict(), f\"./trained_models/with_preds/GRU_1cell_seq_len_{seq_len}_min.tar\")\n",
    "        epochs_without_progress = 0\n",
    "    else:\n",
    "        epochs_without_progress += 1\n",
    "        if epochs_without_progress > 20:\n",
    "            print(\"Early stopping\")\n",
    "            epochs_without_progress = 0\n",
    "            model.load_state_dict(torch.load(f\"./trained_models/with_preds/MLP_1cell_seq_len_{seq_len}_min.tar\"))\n",
    "\n",
    "    # print(f'Epoch: {epoch+1}/{num_epochs}, Loss: {avg_loss:.4f}, val MAE: {mae:.4f}')\n",
    "    all_loss.append(avg_loss)\n",
    "    avg_loss = 0\n",
    "print(f'Best val MAE: {min_mae:.4f}')"
   ]
  },
  {
   "cell_type": "code",
   "execution_count": 9,
   "metadata": {},
   "outputs": [
    {
     "data": {
      "image/png": "[encoded data removed]",
      "text/plain": [
       "<Figure size 640x480 with 2 Axes>"
      ]
     },
     "metadata": {},
     "output_type": "display_data"
    }
   ],
   "source": [
    "fig, ax1 = plt.subplots()\n",
    "ax1.plot(all_loss, 'b-')\n",
    "ax1.set_xlabel('Epochs', color='k')\n",
    "ax1.set_ylabel('Traindata', color='b')\n",
    "ax1.tick_params('y', colors='b')\n",
    "\n",
    "# smoothed_L1Loss = savgol_filter(all_L1Loss, window_length=12, polyorder=3)\n",
    "ax2 = ax1.twinx()\n",
    "ax2.plot(val_mean_abs_error, 'r')\n",
    "ax2.set_ylabel('Testdata', color='r')\n",
    "ax2.tick_params('y', colors='r')\n",
    "plt.show()"
   ]
  },
  {
   "cell_type": "code",
   "execution_count": 10,
   "metadata": {},
   "outputs": [],
   "source": [
    "eval_data, eval_datastamps = data.get_eval_data()\n",
    "\n",
    "eval_dataset = torch.utils.data.TensorDataset(torch.from_numpy(eval_data).float())\n",
    "\n",
    "eval_loader = torch.utils.data.DataLoader(eval_dataset, shuffle=False)"
   ]
  },
  {
   "cell_type": "code",
   "execution_count": 11,
   "metadata": {},
   "outputs": [
    {
     "name": "stdout",
     "output_type": "stream",
     "text": [
      "Best val MAE: 1.1255\n"
     ]
    }
   ],
   "source": [
    "# model.load_state_dict(torch.load(f\"./trained_models/with_preds/GRU_1cell_seq_len_{seq_len}_min.tar\"))\n",
    "# torch.save(model.state_dict(), f\"./trained_models/with_preds/GRU_1cell_N2_seq_len_{seq_len}_preds.tar\")\n",
    "mae = mae_eval(model)\n",
    "print(f'Best val MAE: {mae:.4f}')\n",
    "\n",
    "model.eval()\n",
    "cell1_preds = []\n",
    "with torch.no_grad():\n",
    "    for i, x in enumerate(eval_loader):\n",
    "        x = x[0].to(device)\n",
    "        hidden = model.init_hidden(x).to(device)\n",
    "        preds = model(x, hidden)\n",
    "        preds = preds.to(device).cpu().numpy()\n",
    "        cell1_preds.append(preds)\n",
    "\n",
    "cell1_preds = np.concatenate(cell1_preds, axis=0)\n",
    "cell1_preds_dict = {}\n",
    "for key, value in zip(eval_datastamps, cell1_preds):\n",
    "    key_tuple = tuple(key)\n",
    "    cell1_preds_dict[key_tuple] = value\n",
    "\n",
    "\n",
    "with open('./pickle/cell1_preds_dict.pkl', 'wb') as file:\n",
    "    pickle.dump(cell1_preds_dict, file)"
   ]
  }
 ],
 "metadata": {
  "kernelspec": {
   "display_name": "Python 3",
   "language": "python",
   "name": "python3"
  },
  "language_info": {
   "codemirror_mode": {
    "name": "ipython",
    "version": 3
   },
   "file_extension": ".py",
   "mimetype": "text/x-python",
   "name": "python",
   "nbconvert_exporter": "python",
   "pygments_lexer": "ipython3",
   "version": "3.11.4"
  },
  "orig_nbformat": 4
 },
 "nbformat": 4,
 "nbformat_minor": 2
}
