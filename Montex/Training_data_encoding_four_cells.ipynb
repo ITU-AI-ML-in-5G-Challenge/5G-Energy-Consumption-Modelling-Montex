{
 "cells": [
  {
   "cell_type": "code",
   "execution_count": 1,
   "metadata": {},
   "outputs": [],
   "source": [
    "from sklearn.preprocessing import LabelEncoder\n",
    "import torch\n",
    "import pandas as pd\n",
    "import numpy as np\n",
    "import pickle"
   ]
  },
  {
   "cell_type": "code",
   "execution_count": 2,
   "metadata": {},
   "outputs": [],
   "source": [
    "BSC = pd.read_csv('./original_data/Base_station_basic_info.csv')\n",
    "CLD = pd.read_csv('./original_data/Cell-level_data.csv')\n",
    "ECD = pd.read_csv('./original_data/Energy_consumption_data.csv')"
   ]
  },
  {
   "cell_type": "code",
   "execution_count": 3,
   "metadata": {},
   "outputs": [],
   "source": [
    "merged_df = CLD.merge(BSC, on=['BS', 'CellName'], how='inner')\n",
    "fullmerged_df = merged_df.merge(ECD, on=['BS', 'Time'], how='left') # merge + wyjscie"
   ]
  },
  {
   "cell_type": "code",
   "execution_count": 4,
   "metadata": {},
   "outputs": [],
   "source": [
    "unique_cells_per_base = fullmerged_df.groupby('BS')['CellName'].nunique()\n",
    "one_cell_bases = unique_cells_per_base[unique_cells_per_base == 1].index\n",
    "two_cell_bases = unique_cells_per_base[unique_cells_per_base == 2].index\n",
    "four_cell_bases = unique_cells_per_base[unique_cells_per_base == 4].index"
   ]
  },
  {
   "cell_type": "code",
   "execution_count": 5,
   "metadata": {},
   "outputs": [],
   "source": [
    "fullmerged_df_1 = fullmerged_df[fullmerged_df['BS'].isin(one_cell_bases)]\n",
    "fullmerged_df_2 = fullmerged_df[fullmerged_df['BS'].isin(two_cell_bases)]\n",
    "fullmerged_df_4 = fullmerged_df[fullmerged_df['BS'].isin(four_cell_bases)]\n"
   ]
  },
  {
   "cell_type": "code",
   "execution_count": 6,
   "metadata": {},
   "outputs": [],
   "source": [
    "joined_df_4 = fullmerged_df_4.pivot_table(index=['Time', 'BS'], columns='CellName', values=['load', 'ESMode1', 'ESMode2', 'ESMode3',\n",
    "       'ESMode4', 'ESMode5', 'ESMode6', 'Frequency', 'Bandwidth', 'TXpower'], aggfunc='sum', fill_value=999)\n",
    "\n",
    "# dokleic energy i antennas\n",
    "joined_df_4.columns = ['{}_{}'.format(col[1], col[0]) for col in joined_df_4.columns]\n",
    "joined_df_4 = joined_df_4.sort_index(axis=1)\n",
    "joined_df_4 = joined_df_4.reset_index()\n",
    "joined_df_4 = joined_df_4.merge(fullmerged_df_4[['Time', 'BS', 'RUType', 'Mode', 'Antennas', 'Energy']], on=['Time', 'BS'], how='left')\n",
    "joined_df_4 = joined_df_4.drop_duplicates()"
   ]
  },
  {
   "cell_type": "code",
   "execution_count": 7,
   "metadata": {},
   "outputs": [],
   "source": [
    "joined_df_4['Time'] = pd.to_datetime(joined_df_4['Time'], format='%m/%d/%Y %H:%M')\n",
    "\n",
    "joined_df_4['Year'] = joined_df_4['Time'].dt.year\n",
    "joined_df_4['Day'] = joined_df_4['Time'].dt.day\n",
    "joined_df_4['Hour'] = joined_df_4['Time'].dt.hour\n",
    "joined_df_4['Month'] = joined_df_4['Time'].dt.month\n",
    "\n",
    "joined_df_4 = joined_df_4.sort_values(by=['BS','Time'])\n",
    "joined_df_4 = joined_df_4.reset_index()\n",
    "# joined_df_4.to_csv('./joined_df_4.csv', index=False)"
   ]
  },
  {
   "cell_type": "code",
   "execution_count": 8,
   "metadata": {},
   "outputs": [],
   "source": [
    "joined_df_4['Energy_1'] = joined_df_4['Energy'].shift(1, fill_value=0)\n",
    "bs = None\n",
    "past_energy_cell4_dict = {}\n",
    "for index, row in joined_df_4.iterrows():\n",
    "    time = row.Time\n",
    "    if bs != row.BS:\n",
    "        bs = row.BS\n",
    "        joined_df_4.at[index, 'Energy_1'] = 0.0\n",
    "    elif np.isnan(row.Energy_1):\n",
    "        try:\n",
    "            joined_df_4.at[index, 'Energy_1'] = joined_df_4.at[index-1, 'Energy_1']\n",
    "        except:\n",
    "            print('Mamy problem')\n",
    "    past_energy_cell4_dict[(bs, time)] = [joined_df_4.at[index, 'Energy_1']]\n",
    "    \n",
    "# with open('./pickle/past_energy_cell4_dict.pkl', 'wb') as file:\n",
    "#     pickle.dump(past_energy_cell4_dict, file)\n",
    "# joined_df_4.to_csv('./a.csv', index=False)"
   ]
  },
  {
   "cell_type": "code",
   "execution_count": 9,
   "metadata": {},
   "outputs": [],
   "source": [
    "# first_cell_dict = {}\n",
    "sec_third_cell_dict = {}\n",
    "for row in joined_df_4.itertuples(index=False):\n",
    "    bs = row.BS\n",
    "    bw = row.Cell2_Bandwidth\n",
    "    hour = row.Hour\n",
    "    if bw != 999:\n",
    "        # big_dict[(bs, hour)] = [bw, es_mode1, es_mode2, es_mode3, es_mode4, es_mode5, es_mode6, fr, txp, load]\n",
    "        sec_third_cell_dict[(bs, hour)] = row[23:43]\n",
    "\n",
    "# with open('./pickle/sec_third_cell_dict.pkl', 'wb') as file:\n",
    "    # pickle.dump(sec_third_cell_dict, file)"
   ]
  },
  {
   "cell_type": "code",
   "execution_count": 10,
   "metadata": {},
   "outputs": [],
   "source": [
    "for index, row in joined_df_4.iterrows():\n",
    "    if row.Cell2_Bandwidth == 999:\n",
    "        tmp_list = sec_third_cell_dict[(row.BS, row.Hour)]\n",
    "        # print(tmp_list)\n",
    "        joined_df_4.at[index, 'Cell2_Bandwidth'] = tmp_list[0]\n",
    "        joined_df_4.at[index, 'Cell2_ESMode1'] = tmp_list[1]\n",
    "        joined_df_4.at[index, 'Cell2_ESMode2'] = tmp_list[2]\n",
    "        joined_df_4.at[index, 'Cell2_ESMode3'] = tmp_list[3]\n",
    "        joined_df_4.at[index, 'Cell2_ESMode4'] = tmp_list[4]\n",
    "        joined_df_4.at[index, 'Cell2_ESMode5'] = tmp_list[5]\n",
    "        joined_df_4.at[index, 'Cell2_ESMode6'] = tmp_list[6]\n",
    "        joined_df_4.at[index, 'Cell2_Frequency'] = tmp_list[7]\n",
    "        joined_df_4.at[index, 'Cell2_TXpower'] = tmp_list[8]\n",
    "        joined_df_4.at[index, 'Cell2_load'] = tmp_list[9]\n",
    "        joined_df_4.at[index, 'Cell3_Bandwidth'] = tmp_list[10]\n",
    "        joined_df_4.at[index, 'Cell3_ESMode1'] = tmp_list[11]\n",
    "        joined_df_4.at[index, 'Cell3_ESMode2'] = tmp_list[12]\n",
    "        joined_df_4.at[index, 'Cell3_ESMode3'] = tmp_list[13]\n",
    "        joined_df_4.at[index, 'Cell3_ESMode4'] = tmp_list[14]\n",
    "        joined_df_4.at[index, 'Cell3_ESMode5'] = tmp_list[15]\n",
    "        joined_df_4.at[index, 'Cell3_ESMode6'] = tmp_list[16]\n",
    "        joined_df_4.at[index, 'Cell3_Frequency'] = tmp_list[17]\n",
    "        joined_df_4.at[index, 'Cell3_TXpower'] = tmp_list[18]\n",
    "        joined_df_4.at[index, 'Cell3_load'] = tmp_list[19]\n",
    "\n",
    "# joined_df_4.to_csv('./a.csv', index=False)"
   ]
  },
  {
   "cell_type": "code",
   "execution_count": 11,
   "metadata": {},
   "outputs": [
    {
     "data": {
      "text/plain": [
       "RUType\n",
       "0    280\n",
       "Name: count, dtype: int64"
      ]
     },
     "execution_count": 11,
     "metadata": {},
     "output_type": "execute_result"
    }
   ],
   "source": [
    "#zmiana stringa np. RUType na liczby\n",
    "label_encoders = {}\n",
    "object_cols = ['RUType', 'Mode'] \n",
    "\n",
    "for col in object_cols:\n",
    "    le = LabelEncoder()\n",
    "    joined_df_4[col] = le.fit_transform(joined_df_4[col])\n",
    "    label_encoders[col] = le\n",
    "joined_df_4['RUType'].value_counts()"
   ]
  },
  {
   "cell_type": "code",
   "execution_count": 12,
   "metadata": {},
   "outputs": [],
   "source": [
    "# To tutaj nie ma zadnego sensu bo wszystkie stacja są jednego typu\n",
    "# Encoded_rutype = torch.nn.functional.one_hot(torch.tensor(joined_df_4['RUType'].values).long(), len(joined_df_4['RUType'].value_counts()))\n",
    "# Encoded_rutype = pd.DataFrame(Encoded_rutype, columns=[f\"RUType{i}\" for i in range(len(joined_df_4['RUType'].value_counts()))])\n",
    "# Encoded_rutype.value_counts()"
   ]
  },
  {
   "cell_type": "code",
   "execution_count": 13,
   "metadata": {},
   "outputs": [],
   "source": [
    "# joined_df_4_numpy = joined_df_4.to_numpy()\n",
    "# Encoded_rutype_numpy = Encoded_rutype.to_numpy()\n",
    "# chuj = joined_df_4.columns\n",
    "# joined_df_4 = np.concatenate((joined_df_4_numpy,Encoded_rutype_numpy), axis=1)\n",
    "# joined_df_4 = pd.DataFrame(joined_df_4, columns = chuj.append(Encoded_rutype.columns))\n",
    "# joined_df_4 = pd.concat([joined_df_4, Encoded_rutype], axis=1, ignore_index=)\n",
    "\n",
    "# joined_df_4 = joined_df_4.drop([\"BS\", \"Year\", \"Month\", \"RUType\", \"Time\", \"index\"], axis=1)\n",
    "joined_df_4 = joined_df_4.drop([\"Year\", \"Month\", \"RUType\", \"index\"], axis=1)\n",
    "\n",
    "# joined_df_4 = joined_df_4.drop([\"BS\", \"Time\"], axis=1)\n",
    "# joined_df_4 = joined_df_4.dropna(subset=['Energy'])\n",
    "\n",
    "cols = [col for col in joined_df_4 if col != 'Energy'] + ['Energy']\n",
    "joined_df_4 = joined_df_4[cols]"
   ]
  },
  {
   "cell_type": "code",
   "execution_count": 14,
   "metadata": {},
   "outputs": [
    {
     "name": "stdout",
     "output_type": "stream",
     "text": [
      "Index(['Cell0_Bandwidth', 'Cell0_ESMode1', 'Cell0_ESMode2', 'Cell0_ESMode3',\n",
      "       'Cell0_ESMode4', 'Cell0_ESMode5', 'Cell0_ESMode6', 'Cell0_Frequency',\n",
      "       'Cell0_TXpower', 'Cell0_load', 'Cell1_Bandwidth', 'Cell1_ESMode1',\n",
      "       'Cell1_ESMode2', 'Cell1_ESMode3', 'Cell1_ESMode4', 'Cell1_ESMode5',\n",
      "       'Cell1_ESMode6', 'Cell1_Frequency', 'Cell1_TXpower', 'Cell1_load',\n",
      "       'Cell2_Bandwidth', 'Cell2_ESMode1', 'Cell2_ESMode2', 'Cell2_ESMode3',\n",
      "       'Cell2_ESMode4', 'Cell2_ESMode5', 'Cell2_ESMode6', 'Cell2_Frequency',\n",
      "       'Cell2_TXpower', 'Cell2_load', 'Cell3_Bandwidth', 'Cell3_ESMode1',\n",
      "       'Cell3_ESMode2', 'Cell3_ESMode3', 'Cell3_ESMode4', 'Cell3_ESMode5',\n",
      "       'Cell3_ESMode6', 'Cell3_Frequency', 'Cell3_TXpower', 'Cell3_load',\n",
      "       'Mode', 'Antennas', 'Day', 'Hour', 'Energy_1', 'Energy'],\n",
      "      dtype='object')\n"
     ]
    }
   ],
   "source": [
    "# joined_df_4.to_csv('./prepared_data/Four_Cell_merged.csv', index=False)\n",
    "print(joined_df_4.columns)"
   ]
  }
 ],
 "metadata": {
  "kernelspec": {
   "display_name": "Python 3",
   "language": "python",
   "name": "python3"
  },
  "language_info": {
   "codemirror_mode": {
    "name": "ipython",
    "version": 3
   },
   "file_extension": ".py",
   "mimetype": "text/x-python",
   "name": "python",
   "nbconvert_exporter": "python",
   "pygments_lexer": "ipython3",
   "version": "3.11.4"
  },
  "orig_nbformat": 4
 },
 "nbformat": 4,
 "nbformat_minor": 2
}
