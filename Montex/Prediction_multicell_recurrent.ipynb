{
 "cells": [
  {
   "cell_type": "code",
   "execution_count": 1,
   "metadata": {},
   "outputs": [],
   "source": [
    "import numpy as np\n",
    "import pickle\n",
    "import pandas as pd"
   ]
  },
  {
   "cell_type": "code",
   "execution_count": 2,
   "metadata": {},
   "outputs": [],
   "source": [
    "with open('./pickle/cell1_preds_dict.pkl', 'rb') as file:\n",
    "    cell1_preds_dict = pickle.load(file)\n",
    "\n",
    "with open('./pickle/cell24_preds_dict.pkl', 'rb') as file:\n",
    "    cell24_preds_dict = pickle.load(file)"
   ]
  },
  {
   "cell_type": "code",
   "execution_count": 3,
   "metadata": {},
   "outputs": [],
   "source": [
    "SS = pd.read_csv(\"./original_data/SampleSubmission.csv\")\n",
    "\n",
    "\n",
    "all_preds_dict = {}\n",
    "\n",
    "all_preds = []\n",
    "for row in SS.itertuples(index=False):\n",
    "    time_bs = row.ID\n",
    "    Time = str(time_bs.split(\"_\")[0])\n",
    "    bs = str(time_bs[20:])\n",
    "    try:\n",
    "        energy_pred = cell1_preds_dict[(bs, Time)]\n",
    "        energy_pred = energy_pred[0]\n",
    "    except:\n",
    "        try:\n",
    "            energy_pred = cell24_preds_dict[(bs, Time)]\n",
    "            energy_pred = energy_pred[0]\n",
    "        except:\n",
    "            energy_pred = 999\n",
    "    all_preds_dict[(bs, Time)] = energy_pred\n",
    "    all_preds.append(energy_pred)\n",
    "\n",
    "\n",
    "\n",
    "SS['Energy'] = all_preds\n",
    "# with open('./pickle/all_preds_loss_1_64.pkl', 'wb') as file:\n",
    "#     pickle.dump(all_preds_dict, file)\n",
    "\n",
    "SS.to_csv('./predicted_files/Two_GRUs_final_pred.csv', index=False)"
   ]
  }
 ],
 "metadata": {
  "kernelspec": {
   "display_name": "Python 3",
   "language": "python",
   "name": "python3"
  },
  "language_info": {
   "codemirror_mode": {
    "name": "ipython",
    "version": 3
   },
   "file_extension": ".py",
   "mimetype": "text/x-python",
   "name": "python",
   "nbconvert_exporter": "python",
   "pygments_lexer": "ipython3",
   "version": "3.11.4"
  },
  "orig_nbformat": 4
 },
 "nbformat": 4,
 "nbformat_minor": 2
}
