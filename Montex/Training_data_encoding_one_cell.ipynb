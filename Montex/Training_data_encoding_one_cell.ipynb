{
 "cells": [
  {
   "cell_type": "code",
   "execution_count": 1,
   "metadata": {},
   "outputs": [],
   "source": [
    "from sklearn.preprocessing import LabelEncoder\n",
    "import torch\n",
    "import pandas as pd\n",
    "import numpy as np\n",
    "import pickle\n",
    "import math"
   ]
  },
  {
   "cell_type": "code",
   "execution_count": 2,
   "metadata": {},
   "outputs": [],
   "source": [
    "BSC = pd.read_csv('./original_data/Base_station_basic_info.csv')\n",
    "CLD = pd.read_csv('./original_data/Cell-level_data.csv')\n",
    "ECD = pd.read_csv('./original_data/Energy_consumption_data.csv')"
   ]
  },
  {
   "cell_type": "code",
   "execution_count": 3,
   "metadata": {},
   "outputs": [],
   "source": [
    "merged_df = CLD.merge(BSC, on=['BS', 'CellName'], how='inner')\n",
    "fullmerged_df = merged_df.merge(ECD, on=['BS', 'Time'], how='left') # merge + wyjscie"
   ]
  },
  {
   "cell_type": "code",
   "execution_count": 4,
   "metadata": {},
   "outputs": [],
   "source": [
    "unique_cells_per_base = fullmerged_df.groupby('BS')['CellName'].nunique()\n",
    "one_cell_bases = unique_cells_per_base[unique_cells_per_base == 1].index\n",
    "two_cell_bases = unique_cells_per_base[unique_cells_per_base == 2].index\n",
    "four_cell_bases = unique_cells_per_base[unique_cells_per_base == 4].index"
   ]
  },
  {
   "cell_type": "code",
   "execution_count": 5,
   "metadata": {},
   "outputs": [],
   "source": [
    "fullmerged_df_1 = fullmerged_df[fullmerged_df['BS'].isin(one_cell_bases)]\n",
    "fullmerged_df_2 = fullmerged_df[fullmerged_df['BS'].isin(two_cell_bases)]\n",
    "fullmerged_df_4 = fullmerged_df[fullmerged_df['BS'].isin(four_cell_bases)]\n",
    "\n",
    "# print(fullmerged_df_2.value_counts('BS'))"
   ]
  },
  {
   "cell_type": "code",
   "execution_count": 6,
   "metadata": {},
   "outputs": [
    {
     "name": "stderr",
     "output_type": "stream",
     "text": [
      "C:\\Users\\wpietron\\AppData\\Local\\Temp\\ipykernel_18448\\291725083.py:1: SettingWithCopyWarning: \n",
      "A value is trying to be set on a copy of a slice from a DataFrame.\n",
      "Try using .loc[row_indexer,col_indexer] = value instead\n",
      "\n",
      "See the caveats in the documentation: https://pandas.pydata.org/pandas-docs/stable/user_guide/indexing.html#returning-a-view-versus-a-copy\n",
      "  fullmerged_df_1['Time'] = pd.to_datetime(fullmerged_df_1['Time'], format='%m/%d/%Y %H:%M')\n",
      "C:\\Users\\wpietron\\AppData\\Local\\Temp\\ipykernel_18448\\291725083.py:3: SettingWithCopyWarning: \n",
      "A value is trying to be set on a copy of a slice from a DataFrame.\n",
      "Try using .loc[row_indexer,col_indexer] = value instead\n",
      "\n",
      "See the caveats in the documentation: https://pandas.pydata.org/pandas-docs/stable/user_guide/indexing.html#returning-a-view-versus-a-copy\n",
      "  fullmerged_df_1['Year'] = fullmerged_df_1['Time'].dt.year\n",
      "C:\\Users\\wpietron\\AppData\\Local\\Temp\\ipykernel_18448\\291725083.py:4: SettingWithCopyWarning: \n",
      "A value is trying to be set on a copy of a slice from a DataFrame.\n",
      "Try using .loc[row_indexer,col_indexer] = value instead\n",
      "\n",
      "See the caveats in the documentation: https://pandas.pydata.org/pandas-docs/stable/user_guide/indexing.html#returning-a-view-versus-a-copy\n",
      "  fullmerged_df_1['Day'] = fullmerged_df_1['Time'].dt.day\n",
      "C:\\Users\\wpietron\\AppData\\Local\\Temp\\ipykernel_18448\\291725083.py:5: SettingWithCopyWarning: \n",
      "A value is trying to be set on a copy of a slice from a DataFrame.\n",
      "Try using .loc[row_indexer,col_indexer] = value instead\n",
      "\n",
      "See the caveats in the documentation: https://pandas.pydata.org/pandas-docs/stable/user_guide/indexing.html#returning-a-view-versus-a-copy\n",
      "  fullmerged_df_1['Hour'] = fullmerged_df_1['Time'].dt.hour\n",
      "C:\\Users\\wpietron\\AppData\\Local\\Temp\\ipykernel_18448\\291725083.py:6: SettingWithCopyWarning: \n",
      "A value is trying to be set on a copy of a slice from a DataFrame.\n",
      "Try using .loc[row_indexer,col_indexer] = value instead\n",
      "\n",
      "See the caveats in the documentation: https://pandas.pydata.org/pandas-docs/stable/user_guide/indexing.html#returning-a-view-versus-a-copy\n",
      "  fullmerged_df_1['Month'] = fullmerged_df_1['Time'].dt.month\n"
     ]
    }
   ],
   "source": [
    "fullmerged_df_1['Time'] = pd.to_datetime(fullmerged_df_1['Time'], format='%m/%d/%Y %H:%M')\n",
    "\n",
    "fullmerged_df_1['Year'] = fullmerged_df_1['Time'].dt.year\n",
    "fullmerged_df_1['Day'] = fullmerged_df_1['Time'].dt.day\n",
    "fullmerged_df_1['Hour'] = fullmerged_df_1['Time'].dt.hour\n",
    "fullmerged_df_1['Month'] = fullmerged_df_1['Time'].dt.month\n",
    "# fullmerged_df_1.to_csv('a.csv', index=False)"
   ]
  },
  {
   "cell_type": "code",
   "execution_count": 7,
   "metadata": {},
   "outputs": [],
   "source": [
    "#ewentualne wypelnienie dziur predykcjami i oczywistymi strzalami\n",
    "\n",
    "with open('./pickle/all_preds_loss_1_64.pkl', 'rb') as file:\n",
    "    all_preds_dict = pickle.load(file)\n",
    "\n",
    "fullmerged_df_1.reset_index(inplace=True, drop=True)\n",
    "\n",
    "for index, row in fullmerged_df_1.iterrows():\n",
    "    energy = row.Energy\n",
    "    \n",
    "    if np.isnan(energy):\n",
    "        try:\n",
    "            energy_pred = float(all_preds_dict[(row.BS, str(row.Time))])\n",
    "            fullmerged_df_1.loc[index, 'Energy'] = energy_pred\n",
    "        except:\n",
    "            print(\"gowno\",row.BS, row.Time)"
   ]
  },
  {
   "cell_type": "code",
   "execution_count": 8,
   "metadata": {},
   "outputs": [
    {
     "name": "stderr",
     "output_type": "stream",
     "text": [
      "C:\\Users\\wpietron\\AppData\\Local\\Temp\\ipykernel_18448\\1141810755.py:1: SettingWithCopyWarning: \n",
      "A value is trying to be set on a copy of a slice from a DataFrame.\n",
      "Try using .loc[row_indexer,col_indexer] = value instead\n",
      "\n",
      "See the caveats in the documentation: https://pandas.pydata.org/pandas-docs/stable/user_guide/indexing.html#returning-a-view-versus-a-copy\n",
      "  fullmerged_df_1['Energy_1'] = fullmerged_df_1['Energy'].shift(1, fill_value=0)\n"
     ]
    }
   ],
   "source": [
    "fullmerged_df_1['Energy_1'] = fullmerged_df_1['Energy'].shift(1, fill_value=0)\n",
    "bs = None\n",
    "past_energy_cell1_dict = {}\n",
    "for index, row in fullmerged_df_1.iterrows():\n",
    "    time = row.Time\n",
    "    if bs != row.BS:\n",
    "        bs = row.BS\n",
    "        fullmerged_df_1.at[index, 'Energy_1'] = 0.0\n",
    "    elif np.isnan(row.Energy_1):\n",
    "        fullmerged_df_1.at[index, 'Energy_1'] = fullmerged_df_1.at[index-1, 'Energy_1']\n",
    "    past_energy_cell1_dict[(bs, time)] = [fullmerged_df_1.at[index, 'Energy_1']]\n",
    "with open('./pickle/past_energy_cell1_dict.pkl', 'wb') as file:\n",
    "    pickle.dump(past_energy_cell1_dict, file)"
   ]
  },
  {
   "cell_type": "code",
   "execution_count": 9,
   "metadata": {},
   "outputs": [
    {
     "name": "stdout",
     "output_type": "stream",
     "text": [
      "Index(['Time', 'BS', 'load', 'ESMode1', 'ESMode2', 'ESMode3', 'ESMode4',\n",
      "       'ESMode5', 'ESMode6', 'RUType', 'Mode', 'Frequency', 'Bandwidth',\n",
      "       'Antennas', 'TXpower', 'Energy', 'Day', 'Hour', 'Energy_1'],\n",
      "      dtype='object')\n",
      "Index(['Time', 'BS', 'Bandwidth', 'ESMode1', 'ESMode2', 'ESMode3', 'ESMode4',\n",
      "       'ESMode5', 'ESMode6', 'Frequency', 'TXpower', 'load', 'Mode',\n",
      "       'Antennas', 'Day', 'Hour', 'RUType', 'Energy_1', 'Energy'],\n",
      "      dtype='object')\n"
     ]
    }
   ],
   "source": [
    "# fullmerged_df_1 = fullmerged_df_1.drop([\"CellName\", \"BS\", \"Year\", \"Month\", \"Time\"], axis=1)\n",
    "fullmerged_df_1 = fullmerged_df_1.drop([\"CellName\", \"Year\", \"Month\"], axis=1)\n",
    "print(fullmerged_df_1.columns)\n",
    "new_column_order = ['Time','BS', 'Bandwidth', 'ESMode1','ESMode2','ESMode3','ESMode4','ESMode5','ESMode6','Frequency', 'TXpower', 'load','Mode','Antennas','Day','Hour','RUType','Energy_1','Energy']\n",
    "fullmerged_df_1 = fullmerged_df_1[new_column_order]\n",
    "fullmerged_df_1.sort_values(by=['BS', 'Time'], inplace=True)\n",
    "print(fullmerged_df_1.columns)"
   ]
  },
  {
   "cell_type": "code",
   "execution_count": 10,
   "metadata": {},
   "outputs": [
    {
     "data": {
      "text/plain": [
       "RUType\n",
       "6     32096\n",
       "8     27604\n",
       "9     16087\n",
       "4      4557\n",
       "5      4294\n",
       "7      3999\n",
       "0       936\n",
       "2       768\n",
       "11      648\n",
       "3       528\n",
       "1       504\n",
       "10      264\n",
       "Name: count, dtype: int64"
      ]
     },
     "execution_count": 10,
     "metadata": {},
     "output_type": "execute_result"
    }
   ],
   "source": [
    "label_encoders = {}\n",
    "object_cols = ['RUType', 'Mode'] \n",
    "\n",
    "for col in object_cols:\n",
    "    le = LabelEncoder()\n",
    "    fullmerged_df_1[col] = le.fit_transform(fullmerged_df_1[col])\n",
    "    label_encoders[col] = le\n",
    "\n",
    "fullmerged_df_1['RUType'].value_counts()"
   ]
  },
  {
   "cell_type": "code",
   "execution_count": 11,
   "metadata": {},
   "outputs": [],
   "source": [
    "Encoded_rutype = torch.nn.functional.one_hot(torch.tensor(fullmerged_df_1[\"RUType\"].values).long(), 12)\n",
    "Encoded_rutype = pd.DataFrame(Encoded_rutype, columns=[f\"RUType{i}\" for i in range(12)])\n",
    "# Encoded_rutype.value_counts()"
   ]
  },
  {
   "cell_type": "code",
   "execution_count": 12,
   "metadata": {},
   "outputs": [],
   "source": [
    "fullmerged_df_1_numpy = fullmerged_df_1.to_numpy()\n",
    "Encoded_rutype_numpy = Encoded_rutype.to_numpy()\n",
    "chuj = fullmerged_df_1.columns\n",
    "fullmerged_df_1 = np.concatenate((fullmerged_df_1_numpy,Encoded_rutype_numpy), axis=1)\n",
    "fullmerged_df_1 = pd.DataFrame(fullmerged_df_1, columns = chuj.append(Encoded_rutype.columns))\n",
    "\n",
    "fullmerged_df_1 = fullmerged_df_1.drop([\"RUType\"], axis=1)\n",
    "\n",
    "cols = [col for col in fullmerged_df_1 if col != 'Energy'] + ['Energy']\n",
    "fullmerged_df_1 = fullmerged_df_1[cols]"
   ]
  },
  {
   "cell_type": "code",
   "execution_count": 13,
   "metadata": {},
   "outputs": [
    {
     "name": "stdout",
     "output_type": "stream",
     "text": [
      "Index(['Time', 'BS', 'Bandwidth', 'ESMode1', 'ESMode2', 'ESMode3', 'ESMode4',\n",
      "       'ESMode5', 'ESMode6', 'Frequency', 'TXpower', 'load', 'Mode',\n",
      "       'Antennas', 'Day', 'Hour', 'Energy_1', 'RUType0', 'RUType1', 'RUType2',\n",
      "       'RUType3', 'RUType4', 'RUType5', 'RUType6', 'RUType7', 'RUType8',\n",
      "       'RUType9', 'RUType10', 'RUType11', 'Energy'],\n",
      "      dtype='object')\n"
     ]
    }
   ],
   "source": [
    "fullmerged_df_1.to_csv(\"./prepared_data/One_Cell_merged_with_preds.csv\", index=False)\n",
    "print(fullmerged_df_1.columns)"
   ]
  }
 ],
 "metadata": {
  "kernelspec": {
   "display_name": "Python 3",
   "language": "python",
   "name": "python3"
  },
  "language_info": {
   "codemirror_mode": {
    "name": "ipython",
    "version": 3
   },
   "file_extension": ".py",
   "mimetype": "text/x-python",
   "name": "python",
   "nbconvert_exporter": "python",
   "pygments_lexer": "ipython3",
   "version": "3.11.4"
  },
  "orig_nbformat": 4
 },
 "nbformat": 4,
 "nbformat_minor": 2
}
