{
 "cells": [
  {
   "cell_type": "code",
   "execution_count": 1,
   "metadata": {},
   "outputs": [],
   "source": [
    "import pandas as pd\n",
    "import numpy as np\n",
    "from sklearn.preprocessing import LabelEncoder\n",
    "import torch\n",
    "import matplotlib.pyplot as plt\n",
    "import pickle"
   ]
  },
  {
   "cell_type": "code",
   "execution_count": 2,
   "metadata": {},
   "outputs": [],
   "source": [
    "BSC = pd.read_csv('./original_data/Base_station_basic_info.csv')\n",
    "CLD = pd.read_csv('./original_data/Cell-level_data.csv')\n",
    "ECD = pd.read_csv('./original_data/Energy_consumption_data.csv')\n",
    "PCD = pd.read_csv('./original_data/Power_consumption_prediction.csv') #26139"
   ]
  },
  {
   "cell_type": "code",
   "execution_count": 3,
   "metadata": {},
   "outputs": [],
   "source": [
    "PCD['Time'] =  pd.to_datetime(PCD['Time'], format='%Y-%m-%d %H:%M:%S')"
   ]
  },
  {
   "cell_type": "code",
   "execution_count": 4,
   "metadata": {},
   "outputs": [],
   "source": [
    "#TAK POWINNO BYC \n",
    "merged_df = CLD.merge(BSC, on=['BS', 'CellName'], how='inner')\n",
    "fullmerged_df = merged_df.merge(ECD, on=['BS', 'Time'], how='left') \n",
    "\n",
    "CLD['Time'] =  pd.to_datetime(CLD['Time'], format='%m/%d/%Y %H:%M')\n",
    "CLD_PCD = CLD.merge(PCD, on=['BS', 'Time'], how='inner')\n",
    "CLD_PCD_BSC = CLD_PCD.merge(BSC, on=['BS', 'CellName'], how='inner')"
   ]
  },
  {
   "cell_type": "code",
   "execution_count": 5,
   "metadata": {},
   "outputs": [],
   "source": [
    "CLD_PCD_BSC['Year'] = CLD_PCD_BSC['Time'].dt.year\n",
    "CLD_PCD_BSC['Day'] = CLD_PCD_BSC['Time'].dt.day\n",
    "CLD_PCD_BSC['Hour'] = CLD_PCD_BSC['Time'].dt.hour\n",
    "CLD_PCD_BSC['Month'] = CLD_PCD_BSC['Time'].dt.month"
   ]
  },
  {
   "cell_type": "code",
   "execution_count": 6,
   "metadata": {},
   "outputs": [],
   "source": [
    "unique_cells_per_base = fullmerged_df.groupby('BS')['CellName'].nunique()\n",
    "one_cell_bases = unique_cells_per_base[unique_cells_per_base == 1].index\n",
    "two_cell_bases = unique_cells_per_base[unique_cells_per_base == 2].index\n",
    "four_cell_bases = unique_cells_per_base[unique_cells_per_base == 4].index\n",
    "\n",
    "eval_data_1cell = CLD_PCD_BSC[CLD_PCD_BSC['BS'].isin(one_cell_bases)]\n",
    "eval_data_2cell = CLD_PCD_BSC[CLD_PCD_BSC['BS'].isin(two_cell_bases)]\n",
    "eval_data_4cell = CLD_PCD_BSC[CLD_PCD_BSC['BS'].isin(four_cell_bases)]\n",
    "# eval_data_24cell = CLD_PCD_BSC[CLD_PCD_BSC['BS'].isin(four_cell_bases) | CLD_PCD_BSC['BS'].isin(two_cell_bases)]\n",
    "\n",
    "# print(eval_data_4cell.value_counts('BS'))"
   ]
  },
  {
   "cell_type": "markdown",
   "metadata": {},
   "source": [
    "ONE CELL PREP"
   ]
  },
  {
   "cell_type": "code",
   "execution_count": 7,
   "metadata": {},
   "outputs": [
    {
     "name": "stdout",
     "output_type": "stream",
     "text": [
      "Index(['Time', 'BS', 'load', 'ESMode1', 'ESMode2', 'ESMode3', 'ESMode4',\n",
      "       'ESMode5', 'ESMode6', 'Energy', 'RUType', 'Mode', 'Frequency',\n",
      "       'Bandwidth', 'Antennas', 'TXpower', 'Day', 'Hour'],\n",
      "      dtype='object')\n",
      "Index(['Time', 'BS', 'Bandwidth', 'ESMode1', 'ESMode2', 'ESMode3', 'ESMode4',\n",
      "       'ESMode5', 'ESMode6', 'Frequency', 'TXpower', 'load', 'Mode',\n",
      "       'Antennas', 'Day', 'Hour', 'RUType', 'Energy_1'],\n",
      "      dtype='object')\n"
     ]
    }
   ],
   "source": [
    "# eval_data_1cell = eval_data_1cell.drop([\"CellName\", \"BS\", \"Year\", \"Month\", \"Time\", \"w\"], axis=1)\n",
    "eval_data_1cell = eval_data_1cell.drop([\"CellName\", \"Year\", \"Month\", \"w\"], axis=1)\n",
    "# eval_data_1cell.to_csv('./a.csv')\n",
    "print(eval_data_1cell.columns)\n",
    "\n",
    "with open('./pickle/past_energy_cell1_dict.pkl', 'rb') as file:\n",
    "    past_energy_cell1_dict = pickle.load(file)\n",
    "eval_data_1cell['Energy_1'] = np.zeros(len(eval_data_1cell))\n",
    "for row in eval_data_1cell.itertuples():\n",
    "    eval_data_1cell.at[row.Index, 'Energy_1'] = past_energy_cell1_dict[(row.BS,row.Time)]\n",
    "\n",
    "eval_data_1cell.to_csv('./a.csv')\n",
    "new_column_order = ['Time', 'BS','Bandwidth', 'ESMode1','ESMode2','ESMode3','ESMode4','ESMode5','ESMode6','Frequency', 'TXpower', 'load','Mode','Antennas','Day','Hour','RUType','Energy_1']\n",
    "eval_data_1cell = eval_data_1cell[new_column_order]\n",
    "print(eval_data_1cell.columns)"
   ]
  },
  {
   "cell_type": "code",
   "execution_count": 8,
   "metadata": {},
   "outputs": [
    {
     "data": {
      "text/plain": [
       "RUType\n",
       "6     6419\n",
       "8     5521\n",
       "9     3446\n",
       "7     1133\n",
       "0      913\n",
       "4      904\n",
       "5      872\n",
       "2      767\n",
       "3      527\n",
       "11     130\n",
       "1      101\n",
       "10      54\n",
       "Name: count, dtype: int64"
      ]
     },
     "execution_count": 8,
     "metadata": {},
     "output_type": "execute_result"
    }
   ],
   "source": [
    "label_encoders = {}\n",
    "object_cols = ['RUType', 'Mode'] \n",
    "\n",
    "for col in object_cols:\n",
    "    le = LabelEncoder()\n",
    "    eval_data_1cell[col] = le.fit_transform(eval_data_1cell[col])\n",
    "    label_encoders[col] = le\n",
    "\n",
    "eval_data_1cell['RUType'].value_counts()"
   ]
  },
  {
   "cell_type": "code",
   "execution_count": 9,
   "metadata": {},
   "outputs": [],
   "source": [
    "Encoded_rutype = torch.nn.functional.one_hot(torch.tensor(eval_data_1cell[\"RUType\"].values).long(), 12)\n",
    "Encoded_rutype = pd.DataFrame(Encoded_rutype, columns=[f\"RUType{i}\" for i in range(12)])"
   ]
  },
  {
   "cell_type": "code",
   "execution_count": 10,
   "metadata": {},
   "outputs": [],
   "source": [
    "# CLD_PCD_BSC_no_dupa = pd.concat([CLD_PCD_BSC_no_dupa, Encoded_cellname], axis=1)\n",
    "# CLD_PCD_BSC_no_dupa = pd.concat([CLD_PCD_BSC_no_dupa, Encoded_rutype], axis=1)\n",
    "\n",
    "eval_data_1cell_white_man = eval_data_1cell.to_numpy()\n",
    "Encoded_rutype_white_man = Encoded_rutype.to_numpy()\n",
    "chuj = eval_data_1cell.columns\n",
    "eval_data_1cell = np.concatenate((eval_data_1cell_white_man,Encoded_rutype_white_man), axis=1)\n",
    "eval_data_1cell = pd.DataFrame(eval_data_1cell, columns = chuj.append(Encoded_rutype.columns))\n",
    "\n",
    "eval_data_1cell = eval_data_1cell.drop([\"RUType\"], axis=1)\n",
    "\n",
    "eval_data_1cell.to_csv(\"./prepared_data/Prediction_data_1cell.csv\", index=False)"
   ]
  },
  {
   "cell_type": "markdown",
   "metadata": {},
   "source": [
    "TWO CELL PREP"
   ]
  },
  {
   "cell_type": "code",
   "execution_count": 11,
   "metadata": {},
   "outputs": [],
   "source": [
    "# condition = (eval_data_24cell['CellName'] != 'Cell2') & (eval_data_24cell['CellName'] != 'Cell3')\n",
    "# eval_data_24cell = eval_data_24cell[condition]\n",
    "\n",
    "joined_df_2 = eval_data_2cell.pivot_table(index=['Time', 'BS'], columns='CellName', values=['load', 'ESMode1', 'ESMode2', 'ESMode3',\n",
    "       'ESMode4', 'ESMode5', 'ESMode6', 'Frequency', 'Bandwidth', 'TXpower'], aggfunc='sum', fill_value=999)\n",
    "\n",
    "joined_df_2.columns = ['{}_{}'.format(col[1], col[0]) for col in joined_df_2.columns]\n",
    "joined_df_2 = joined_df_2.sort_index(axis=1)\n",
    "joined_df_2 = joined_df_2.reset_index()\n",
    "joined_df_2 = joined_df_2.merge(eval_data_2cell[['Time', 'BS', 'RUType', 'Mode', 'Antennas']], on=['Time', 'BS'], how='inner')\n",
    "joined_df_2 = joined_df_2.drop_duplicates()\n",
    "joined_df_2 = joined_df_2.sort_values(by=['BS','Time'])\n",
    "# joined_df_2.to_csv('./a.csv')"
   ]
  },
  {
   "cell_type": "code",
   "execution_count": 12,
   "metadata": {},
   "outputs": [],
   "source": [
    "joined_df_2['Time'] = pd.to_datetime(joined_df_2['Time'], format='%m/%d/%Y %H:%M')\n",
    "\n",
    "joined_df_2['Year'] = joined_df_2['Time'].dt.year\n",
    "joined_df_2['Day'] = joined_df_2['Time'].dt.day\n",
    "joined_df_2['Hour'] = joined_df_2['Time'].dt.hour\n",
    "joined_df_2['Month'] = joined_df_2['Time'].dt.month"
   ]
  },
  {
   "cell_type": "code",
   "execution_count": 13,
   "metadata": {},
   "outputs": [],
   "source": [
    "with open('./pickle/past_energy_cell2_dict.pkl', 'rb') as file:\n",
    "    past_energy_cell2_dict = pickle.load(file)\n",
    "joined_df_2['Energy_1'] = np.zeros(len(joined_df_2))\n",
    "for row in joined_df_2.itertuples():\n",
    "    # print((row.BS,row.Time))\n",
    "    joined_df_2.at[row.Index, 'Energy_1'] = past_energy_cell2_dict[(row.BS,row.Time)]"
   ]
  },
  {
   "cell_type": "code",
   "execution_count": 14,
   "metadata": {},
   "outputs": [],
   "source": [
    "with open('./pickle/big_dict.pkl', 'rb') as file:\n",
    "    big_dict = pickle.load(file)\n",
    "\n",
    "# uzupelnianie joined_df_2\n",
    "for index, row in joined_df_2.iterrows():\n",
    "    if row.Cell1_Bandwidth == 999:\n",
    "        tmp_list = big_dict[(row.BS, row.Hour)]\n",
    "        joined_df_2.at[index, 'Cell1_Bandwidth'] = tmp_list[0]\n",
    "        joined_df_2.at[index, 'Cell1_ESMode1'] = tmp_list[1]\n",
    "        joined_df_2.at[index, 'Cell1_ESMode2'] = tmp_list[2]\n",
    "        joined_df_2.at[index, 'Cell1_ESMode3'] = tmp_list[3]\n",
    "        joined_df_2.at[index, 'Cell1_ESMode4'] = tmp_list[4]\n",
    "        joined_df_2.at[index, 'Cell1_ESMode5'] = tmp_list[5]\n",
    "        joined_df_2.at[index, 'Cell1_ESMode6'] = tmp_list[6]\n",
    "        joined_df_2.at[index, 'Cell1_Frequency'] = tmp_list[7]\n",
    "        joined_df_2.at[index, 'Cell1_TXpower'] = tmp_list[8]\n",
    "        joined_df_2.at[index, 'Cell1_load'] = tmp_list[9]\n",
    "# joined_df_2.to_csv('./joined_df_2.csv', index=False)\n",
    "# print(joined_df_2.value_counts('BS'))"
   ]
  },
  {
   "cell_type": "code",
   "execution_count": 15,
   "metadata": {},
   "outputs": [
    {
     "data": {
      "text/plain": [
       "RUType\n",
       "0    4969\n",
       "3     239\n",
       "1      48\n",
       "2      35\n",
       "4      31\n",
       "5       4\n",
       "Name: count, dtype: int64"
      ]
     },
     "execution_count": 15,
     "metadata": {},
     "output_type": "execute_result"
    }
   ],
   "source": [
    "label_encoders = {}\n",
    "object_cols = ['RUType', 'Mode'] \n",
    "\n",
    "for col in object_cols:\n",
    "    le = LabelEncoder()\n",
    "    joined_df_2[col] = le.fit_transform(joined_df_2[col])\n",
    "    label_encoders[col] = le\n",
    "joined_df_2['RUType'].value_counts()"
   ]
  },
  {
   "cell_type": "code",
   "execution_count": 16,
   "metadata": {},
   "outputs": [
    {
     "data": {
      "text/plain": [
       "RUType0  RUType1  RUType2  RUType3  RUType4  RUType5\n",
       "1        0        0        0        0        0          4969\n",
       "0        0        0        1        0        0           239\n",
       "         1        0        0        0        0            48\n",
       "         0        1        0        0        0            35\n",
       "                  0        0        1        0            31\n",
       "                                    0        1             4\n",
       "Name: count, dtype: int64"
      ]
     },
     "execution_count": 16,
     "metadata": {},
     "output_type": "execute_result"
    }
   ],
   "source": [
    "Encoded_rutype = torch.nn.functional.one_hot(torch.tensor(joined_df_2['RUType'].values).long(), 6)\n",
    "Encoded_rutype = pd.DataFrame(Encoded_rutype, columns=[f\"RUType{i}\" for i in range(6)])\n",
    "Encoded_rutype.value_counts()"
   ]
  },
  {
   "cell_type": "code",
   "execution_count": 17,
   "metadata": {},
   "outputs": [
    {
     "name": "stdout",
     "output_type": "stream",
     "text": [
      "Index(['Time', 'BS', 'Cell0_Bandwidth', 'Cell0_ESMode1', 'Cell0_ESMode2',\n",
      "       'Cell0_ESMode3', 'Cell0_ESMode4', 'Cell0_ESMode5', 'Cell0_ESMode6',\n",
      "       'Cell0_Frequency', 'Cell0_TXpower', 'Cell0_load', 'Cell1_Bandwidth',\n",
      "       'Cell1_ESMode1', 'Cell1_ESMode2', 'Cell1_ESMode3', 'Cell1_ESMode4',\n",
      "       'Cell1_ESMode5', 'Cell1_ESMode6', 'Cell1_Frequency', 'Cell1_TXpower',\n",
      "       'Cell1_load', 'Mode', 'Antennas', 'Day', 'Hour', 'Energy_1', 'RUType0',\n",
      "       'RUType1', 'RUType2', 'RUType3', 'RUType4', 'RUType5'],\n",
      "      dtype='object')\n"
     ]
    }
   ],
   "source": [
    "joined_df_2_white_man = joined_df_2.to_numpy()\n",
    "Encoded_rutype_white_man = Encoded_rutype.to_numpy()\n",
    "chuj = joined_df_2.columns\n",
    "joined_df_2 = np.concatenate((joined_df_2_white_man,Encoded_rutype_white_man), axis=1)\n",
    "joined_df_2 = pd.DataFrame(joined_df_2, columns = chuj.append(Encoded_rutype.columns))\n",
    "# joined_df_2 = pd.concat([joined_df_2, Encoded_rutype], axis=1, ignore_index=)\n",
    "\n",
    "# joined_df_2 = joined_df_2.drop([\"BS\", \"Year\", \"Month\", \"RUType\", \"Time\"], axis=1)\n",
    "joined_df_2 = joined_df_2.drop([\"Year\", \"Month\", \"RUType\"], axis=1)\n",
    "joined_df_2.to_csv(\"./prepared_data/Prediction_data_2cells.csv\", index=False)\n",
    "print(joined_df_2.columns)"
   ]
  },
  {
   "cell_type": "markdown",
   "metadata": {},
   "source": [
    "FOUR CELL PREP"
   ]
  },
  {
   "cell_type": "code",
   "execution_count": 18,
   "metadata": {},
   "outputs": [],
   "source": [
    "joined_df_4 = eval_data_4cell.pivot_table(index=['Time', 'BS'], columns='CellName', values=['load', 'ESMode1', 'ESMode2', 'ESMode3',\n",
    "       'ESMode4', 'ESMode5', 'ESMode6', 'Frequency', 'Bandwidth', 'TXpower'], aggfunc='sum', fill_value=999)\n",
    "\n",
    "joined_df_4.columns = ['{}_{}'.format(col[1], col[0]) for col in joined_df_4.columns]\n",
    "joined_df_4 = joined_df_4.sort_index(axis=1)\n",
    "joined_df_4 = joined_df_4.reset_index()\n",
    "joined_df_4 = joined_df_4.merge(eval_data_4cell[['Time', 'BS', 'RUType', 'Mode', 'Antennas']], on=['Time', 'BS'], how='inner')\n",
    "joined_df_4 = joined_df_4.drop_duplicates()\n",
    "joined_df_4 = joined_df_4.sort_values(by=['BS','Time'])\n",
    "# joined_df_4.to_csv('./a.csv')"
   ]
  },
  {
   "cell_type": "code",
   "execution_count": 19,
   "metadata": {},
   "outputs": [],
   "source": [
    "joined_df_4['Time'] = pd.to_datetime(joined_df_4['Time'], format='%m/%d/%Y %H:%M')\n",
    "\n",
    "joined_df_4['Year'] = joined_df_4['Time'].dt.year\n",
    "joined_df_4['Day'] = joined_df_4['Time'].dt.day\n",
    "joined_df_4['Hour'] = joined_df_4['Time'].dt.hour\n",
    "joined_df_4['Month'] = joined_df_4['Time'].dt.month"
   ]
  },
  {
   "cell_type": "code",
   "execution_count": 20,
   "metadata": {},
   "outputs": [],
   "source": [
    "with open('./pickle/past_energy_cell4_dict.pkl', 'rb') as file:\n",
    "    past_energy_cell4_dict = pickle.load(file)\n",
    "joined_df_4['Energy_1'] = np.zeros(len(joined_df_4))\n",
    "for row in joined_df_4.itertuples():\n",
    "    # print((row.BS,row.Time))\n",
    "    joined_df_4.at[row.Index, 'Energy_1'] = past_energy_cell4_dict[(row.BS,row.Time)]"
   ]
  },
  {
   "cell_type": "code",
   "execution_count": 21,
   "metadata": {},
   "outputs": [],
   "source": [
    "with open('./pickle/sec_third_cell_dict.pkl', 'rb') as file:\n",
    "    sec_third_cell_dict = pickle.load(file)\n",
    "\n",
    "for index, row in joined_df_4.iterrows():\n",
    "    if row.Cell2_Bandwidth == 999:\n",
    "        tmp_list = sec_third_cell_dict[(row.BS, row.Hour)]\n",
    "        # print(tmp_list)\n",
    "        joined_df_4.at[index, 'Cell2_Bandwidth'] = tmp_list[0]\n",
    "        joined_df_4.at[index, 'Cell2_ESMode1'] = tmp_list[1]\n",
    "        joined_df_4.at[index, 'Cell2_ESMode2'] = tmp_list[2]\n",
    "        joined_df_4.at[index, 'Cell2_ESMode3'] = tmp_list[3]\n",
    "        joined_df_4.at[index, 'Cell2_ESMode4'] = tmp_list[4]\n",
    "        joined_df_4.at[index, 'Cell2_ESMode5'] = tmp_list[5]\n",
    "        joined_df_4.at[index, 'Cell2_ESMode6'] = tmp_list[6]\n",
    "        joined_df_4.at[index, 'Cell2_Frequency'] = tmp_list[7]\n",
    "        joined_df_4.at[index, 'Cell2_TXpower'] = tmp_list[8]\n",
    "        joined_df_4.at[index, 'Cell2_load'] = tmp_list[9]\n",
    "        joined_df_4.at[index, 'Cell3_Bandwidth'] = tmp_list[10]\n",
    "        joined_df_4.at[index, 'Cell3_ESMode1'] = tmp_list[11]\n",
    "        joined_df_4.at[index, 'Cell3_ESMode2'] = tmp_list[12]\n",
    "        joined_df_4.at[index, 'Cell3_ESMode3'] = tmp_list[13]\n",
    "        joined_df_4.at[index, 'Cell3_ESMode4'] = tmp_list[14]\n",
    "        joined_df_4.at[index, 'Cell3_ESMode5'] = tmp_list[15]\n",
    "        joined_df_4.at[index, 'Cell3_ESMode6'] = tmp_list[16]\n",
    "        joined_df_4.at[index, 'Cell3_Frequency'] = tmp_list[17]\n",
    "        joined_df_4.at[index, 'Cell3_TXpower'] = tmp_list[18]\n",
    "        joined_df_4.at[index, 'Cell3_load'] = tmp_list[19]\n",
    "joined_df_4.to_csv('./joined_df_4.csv', index=False)"
   ]
  },
  {
   "cell_type": "code",
   "execution_count": 25,
   "metadata": {},
   "outputs": [
    {
     "data": {
      "text/plain": [
       "RUType\n",
       "0    65\n",
       "Name: count, dtype: int64"
      ]
     },
     "execution_count": 25,
     "metadata": {},
     "output_type": "execute_result"
    }
   ],
   "source": [
    "label_encoders = {}\n",
    "object_cols = ['RUType', 'Mode'] \n",
    "\n",
    "for col in object_cols:\n",
    "    le = LabelEncoder()\n",
    "    joined_df_4[col] = le.fit_transform(joined_df_4[col])\n",
    "    label_encoders[col] = le\n",
    "joined_df_4['RUType'].value_counts()"
   ]
  },
  {
   "cell_type": "code",
   "execution_count": 26,
   "metadata": {},
   "outputs": [
    {
     "name": "stdout",
     "output_type": "stream",
     "text": [
      "Index(['Time', 'BS', 'Cell0_Bandwidth', 'Cell0_ESMode1', 'Cell0_ESMode2',\n",
      "       'Cell0_ESMode3', 'Cell0_ESMode4', 'Cell0_ESMode5', 'Cell0_ESMode6',\n",
      "       'Cell0_Frequency', 'Cell0_TXpower', 'Cell0_load', 'Cell1_Bandwidth',\n",
      "       'Cell1_ESMode1', 'Cell1_ESMode2', 'Cell1_ESMode3', 'Cell1_ESMode4',\n",
      "       'Cell1_ESMode5', 'Cell1_ESMode6', 'Cell1_Frequency', 'Cell1_TXpower',\n",
      "       'Cell1_load', 'Cell2_Bandwidth', 'Cell2_ESMode1', 'Cell2_ESMode2',\n",
      "       'Cell2_ESMode3', 'Cell2_ESMode4', 'Cell2_ESMode5', 'Cell2_ESMode6',\n",
      "       'Cell2_Frequency', 'Cell2_TXpower', 'Cell2_load', 'Cell3_Bandwidth',\n",
      "       'Cell3_ESMode1', 'Cell3_ESMode2', 'Cell3_ESMode3', 'Cell3_ESMode4',\n",
      "       'Cell3_ESMode5', 'Cell3_ESMode6', 'Cell3_Frequency', 'Cell3_TXpower',\n",
      "       'Cell3_load', 'Mode', 'Antennas', 'Day', 'Hour', 'Energy_1'],\n",
      "      dtype='object')\n"
     ]
    }
   ],
   "source": [
    "# joined_df_4_white_man = joined_df_4.to_numpy()\n",
    "# Encoded_rutype_white_man = Encoded_rutype.to_numpy()\n",
    "# chuj = joined_df_4.columns\n",
    "# joined_df_4 = np.concatenate((joined_df_4_white_man,Encoded_rutype_white_man), axis=1)\n",
    "# joined_df_4 = pd.DataFrame(joined_df_4, columns = chuj.append(Encoded_rutype.columns))\n",
    "\n",
    "# joined_df_4 = joined_df_4.drop([\"BS\", \"Year\", \"Month\", \"RUType\", \"Time\"], axis=1)\n",
    "joined_df_4 = joined_df_4.drop([\"Year\", \"Month\", \"RUType\"], axis=1)\n",
    "joined_df_4.to_csv(\"./prepared_data/Prediction_data_4cells.csv\", index=False)\n",
    "print(joined_df_4.columns)"
   ]
  }
 ],
 "metadata": {
  "kernelspec": {
   "display_name": "Python 3",
   "language": "python",
   "name": "python3"
  },
  "language_info": {
   "codemirror_mode": {
    "name": "ipython",
    "version": 3
   },
   "file_extension": ".py",
   "mimetype": "text/x-python",
   "name": "python",
   "nbconvert_exporter": "python",
   "pygments_lexer": "ipython3",
   "version": "3.11.4"
  },
  "orig_nbformat": 4
 },
 "nbformat": 4,
 "nbformat_minor": 2
}
